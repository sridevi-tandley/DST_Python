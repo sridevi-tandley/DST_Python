{
  "cells": [
    {
      "cell_type": "markdown",
      "id": "31d9a4c9",
      "metadata": {
        "origin_pos": 0,
        "id": "31d9a4c9"
      },
      "source": [
        "# Using Jupyter Notebooks\n",
        ":label:`sec_jupyter`\n",
        "\n",
        "\n",
        "This section describes how to edit and run the code\n",
        "in each section of this book\n",
        "using the Jupyter Notebook. Make sure you have\n",
        "installed Jupyter and downloaded the\n",
        "code as described in\n",
        ":ref:`chap_installation`.\n",
        "If you want to know more about Jupyter see the excellent tutorial in\n",
        "their [documentation](https://jupyter.readthedocs.io/en/latest/).\n",
        "\n",
        "\n",
        "## Editing and Running the Code Locally\n",
        "\n",
        "Suppose that the local path of the book's code is `xx/yy/d2l-en/`. Use the shell to change the directory to this path (`cd xx/yy/d2l-en`) and run the command `jupyter notebook`. If your browser does not do this automatically, open http://localhost:8888 and you will see the interface of Jupyter and all the folders containing the code of the book, as shown in :numref:`fig_jupyter00`.\n",
        "\n",
        "![The folders containing the code of this book.](https://github.com/d2l-ai/d2l-en-colab/blob/master/img/jupyter00.png?raw=1)\n",
        ":width:`600px`\n",
        ":label:`fig_jupyter00`\n",
        "\n",
        "\n",
        "You can access the notebook files by clicking on the folder displayed on the webpage.\n",
        "They usually have the suffix \".ipynb\".\n",
        "For the sake of brevity, we create a temporary \"test.ipynb\" file.\n",
        "The content displayed after you click it is\n",
        "shown in :numref:`fig_jupyter01`.\n",
        "This notebook includes a markdown cell and a code cell. The content in the markdown cell includes \"This Is a Title\" and \"This is text.\".\n",
        "The code cell contains two lines of Python code.\n",
        "\n",
        "![Markdown and code cells in the \"text.ipynb\" file.](https://github.com/d2l-ai/d2l-en-colab/blob/master/img/jupyter01.png?raw=1)\n",
        ":width:`600px`\n",
        ":label:`fig_jupyter01`\n",
        "\n",
        "\n",
        "Double click on the markdown cell to enter edit mode.\n",
        "Add a new text string \"Hello world.\" at the end of the cell, as shown in :numref:`fig_jupyter02`.\n",
        "\n",
        "![Edit the markdown cell.](https://github.com/d2l-ai/d2l-en-colab/blob/master/img/jupyter02.png?raw=1)\n",
        ":width:`600px`\n",
        ":label:`fig_jupyter02`\n",
        "\n",
        "\n",
        "As demonstrated in :numref:`fig_jupyter03`,\n",
        "click \"Cell\" $\\rightarrow$ \"Run Cells\" in the menu bar to run the edited cell.\n",
        "\n",
        "![Run the cell.](https://github.com/d2l-ai/d2l-en-colab/blob/master/img/jupyter03.png?raw=1)\n",
        ":width:`600px`\n",
        ":label:`fig_jupyter03`\n",
        "\n",
        "After running, the markdown cell is shown in :numref:`fig_jupyter04`.\n",
        "\n",
        "![The markdown cell after running.](https://github.com/d2l-ai/d2l-en-colab/blob/master/img/jupyter04.png?raw=1)\n",
        ":width:`600px`\n",
        ":label:`fig_jupyter04`\n",
        "\n",
        "\n",
        "Next, click on the code cell. Multiply the elements by 2 after the last line of code, as shown in :numref:`fig_jupyter05`.\n",
        "\n",
        "![Edit the code cell.](https://github.com/d2l-ai/d2l-en-colab/blob/master/img/jupyter05.png?raw=1)\n",
        ":width:`600px`\n",
        ":label:`fig_jupyter05`\n",
        "\n",
        "\n",
        "You can also run the cell with a shortcut (\"Ctrl + Enter\" by default) and obtain the output result from :numref:`fig_jupyter06`.\n",
        "\n",
        "![Run the code cell to obtain the output.](https://github.com/d2l-ai/d2l-en-colab/blob/master/img/jupyter06.png?raw=1)\n",
        ":width:`600px`\n",
        ":label:`fig_jupyter06`\n",
        "\n",
        "\n",
        "When a notebook contains more cells, we can click \"Kernel\" $\\rightarrow$ \"Restart & Run All\" in the menu bar to run all the cells in the entire notebook. By clicking \"Help\" $\\rightarrow$ \"Edit Keyboard Shortcuts\" in the menu bar, you can edit the shortcuts according to your preferences.\n",
        "\n",
        "## Advanced Options\n",
        "\n",
        "Beyond local editing two things are quite important: editing the notebooks in the markdown format and running Jupyter remotely.\n",
        "The latter matters when we want to run the code on a faster server.\n",
        "The former matters since Jupyter's native ipynb format stores a lot of auxiliary data that is\n",
        "irrelevant to the content,\n",
        "mostly related to how and where the code is run.\n",
        "This is confusing for Git, making\n",
        "reviewing contributions very difficult.\n",
        "Fortunately there is an alternative---native editing in the markdown format.\n",
        "\n",
        "### Markdown Files in Jupyter\n",
        "\n",
        "If you wish to contribute to the content of this book, you need to modify the\n",
        "source file (md file, not ipynb file) on GitHub.\n",
        "Using the notedown plugin we\n",
        "can modify notebooks in the md format directly in Jupyter.\n",
        "\n",
        "\n",
        "First, install the notedown plugin, run the Jupyter Notebook, and load the plugin:\n",
        "\n",
        "```\n",
        "pip install d2l-notedown  # You may need to uninstall the original notedown.\n",
        "jupyter notebook --NotebookApp.contents_manager_class='notedown.NotedownContentsManager'\n",
        "```\n",
        "\n",
        "You may also turn on the notedown plugin by default whenever you run the Jupyter Notebook.\n",
        "First, generate a Jupyter Notebook configuration file (if it has already been generated, you can skip this step).\n",
        "\n",
        "```\n",
        "jupyter notebook --generate-config\n",
        "```\n",
        "\n",
        "Then, add the following line to the end of the Jupyter Notebook configuration file (for Linux or macOS, usually in the path `~/.jupyter/jupyter_notebook_config.py`):\n",
        "\n",
        "```\n",
        "c.NotebookApp.contents_manager_class = 'notedown.NotedownContentsManager'\n",
        "```\n",
        "\n",
        "After that, you only need to run the `jupyter notebook` command to turn on the notedown plugin by default.\n",
        "\n",
        "### Running Jupyter Notebooks on a Remote Server\n",
        "\n",
        "Sometimes, you may want to run Jupyter notebooks on a remote server and access it through a browser on your local computer. If Linux or macOS is installed on your local machine (Windows can also support this function through third-party software such as PuTTY), you can use port forwarding:\n",
        "\n",
        "```\n",
        "ssh myserver -L 8888:localhost:8888\n",
        "```\n",
        "\n",
        "The above string `myserver` is the address of the remote server.\n",
        "Then we can use http://localhost:8888 to access the remote server `myserver` that runs Jupyter notebooks. We will detail on how to run Jupyter notebooks on AWS instances\n",
        "later in this appendix.\n",
        "\n",
        "### Timing\n",
        "\n",
        "We can use the `ExecuteTime` plugin to time the execution of each code cell in Jupyter notebooks.\n",
        "Use the following commands to install the plugin:\n",
        "\n",
        "```\n",
        "pip install jupyter_contrib_nbextensions\n",
        "jupyter contrib nbextension install --user\n",
        "jupyter nbextension enable execute_time/ExecuteTime\n",
        "```\n",
        "\n",
        "## Summary\n",
        "\n",
        "* Using the Jupyter Notebook tool, we can edit, run, and contribute to each section of the book.\n",
        "* We can run Jupyter notebooks on remote servers using port forwarding.\n",
        "\n",
        "\n",
        "## Exercises\n",
        "\n",
        "1. Edit and run the code in this book with the Jupyter Notebook on your local machine.\n",
        "1. Edit and run the code in this book with the Jupyter Notebook *remotely* via port forwarding.\n",
        "1. Compare the running time of the operations $\\mathbf{A}^\\top \\mathbf{B}$ and $\\mathbf{A} \\mathbf{B}$ for two square matrices in $\\mathbb{R}^{1024 \\times 1024}$. Which one is faster?\n",
        "\n",
        "\n",
        "[Discussions](https://discuss.d2l.ai/t/421)\n"
      ]
    },
    {
      "cell_type": "markdown",
      "source": [
        "1. Variables: Defining and Using Variables, Data Types, and Type Conversion"
      ],
      "metadata": {
        "id": "MBaUjUkI5lKP"
      },
      "id": "MBaUjUkI5lKP"
    },
    {
      "cell_type": "code",
      "source": [
        "# Defining variables\n",
        "name = \"Alice\"            # String\n",
        "age = 30                  # Integer\n",
        "height = 5.5              # Float\n",
        "is_student = True         # Boolean\n",
        "\n",
        "# Printing variable values\n",
        "print(\"Name:\", name)\n",
        "print(\"Age:\", age)\n",
        "print(\"Height:\", height)\n",
        "print(\"Is Student:\", is_student)\n",
        "\n",
        "# Type conversion\n",
        "age_str = str(age)        # Convert integer to string\n",
        "height_int = int(height)  # Convert float to integer\n",
        "\n",
        "print(\"Age as string:\", age_str)\n",
        "print(\"Height as integer:\", height_int)"
      ],
      "metadata": {
        "id": "jRXz7H85nNMb",
        "outputId": "595338e5-1fcd-476d-d08d-a56b966cc0c6",
        "colab": {
          "base_uri": "https://localhost:8080/"
        }
      },
      "id": "jRXz7H85nNMb",
      "execution_count": 2,
      "outputs": [
        {
          "output_type": "stream",
          "name": "stdout",
          "text": [
            "Name: Alice\n",
            "Age: 30\n",
            "Height: 5.5\n",
            "Is Student: True\n",
            "Age as string: 30\n",
            "Height as integer: 5\n"
          ]
        }
      ]
    },
    {
      "cell_type": "code",
      "source": [
        "# Defining variables\n",
        "name = \"Alice\"            # String\n",
        "age = 30                  # Integer\n",
        "height = 5.5              # Float\n",
        "is_student = True         # Boolean\n",
        "\n",
        "# Printing variable values\n",
        "print(\"Name:\", name)\n",
        "print(\"Age:\", age)\n",
        "print(\"Height:\", height)\n",
        "print(\"Is Student:\", is_student)\n",
        "\n",
        "# Type conversion\n",
        "age_str = str(age)        # Convert integer to string\n",
        "height_int = int(height)  # Convert float to integer\n",
        "\n",
        "print(\"Age as string:\", age_str)\n",
        "print(\"Height as integer:\", height_int)"
      ],
      "metadata": {
        "id": "lYwjLm5j6GU5",
        "outputId": "cf6a4ea7-b93b-4691-faef-0ff8057629a3",
        "colab": {
          "base_uri": "https://localhost:8080/"
        }
      },
      "id": "lYwjLm5j6GU5",
      "execution_count": 3,
      "outputs": [
        {
          "output_type": "stream",
          "name": "stdout",
          "text": [
            "Name: Alice\n",
            "Age: 30\n",
            "Height: 5.5\n",
            "Is Student: True\n",
            "Age as string: 30\n",
            "Height as integer: 5\n"
          ]
        }
      ]
    },
    {
      "cell_type": "markdown",
      "source": [
        "2. Data Types -\n",
        "Basic Types"
      ],
      "metadata": {
        "id": "7ijiXHr06RZG"
      },
      "id": "7ijiXHr06RZG"
    },
    {
      "cell_type": "code",
      "source": [
        "# Basic Data Types\n",
        "integer_var = 42                      # Integer\n",
        "float_var = 3.14                      # Float\n",
        "string_var = \"Hello, World!\"          # String\n",
        "boolean_var = False                    # Boolean\n",
        "\n",
        "print(\"Integer:\", integer_var)\n",
        "print(\"Float:\", float_var)\n",
        "print(\"String:\", string_var)\n",
        "print(\"Boolean:\", boolean_var)"
      ],
      "metadata": {
        "id": "Ca_SWqsS6PSJ",
        "outputId": "afd1bb6a-d4bc-4ada-f617-8fa325689d4d",
        "colab": {
          "base_uri": "https://localhost:8080/"
        }
      },
      "id": "Ca_SWqsS6PSJ",
      "execution_count": 4,
      "outputs": [
        {
          "output_type": "stream",
          "name": "stdout",
          "text": [
            "Integer: 42\n",
            "Float: 3.14\n",
            "String: Hello, World!\n",
            "Boolean: False\n"
          ]
        }
      ]
    },
    {
      "cell_type": "markdown",
      "source": [
        "Collections"
      ],
      "metadata": {
        "id": "NujlnFKk6ew1"
      },
      "id": "NujlnFKk6ew1"
    },
    {
      "cell_type": "code",
      "source": [
        "# Collections\n",
        "# List\n",
        "my_list = [1, 2, 3, 4, 5]\n",
        "print(\"List:\", my_list)\n",
        "\n",
        "# Tuple\n",
        "my_tuple = (1, 2, 3)\n",
        "print(\"Tuple:\", my_tuple)\n",
        "\n",
        "# Set\n",
        "my_set = {1, 2, 3, 3}  # Duplicates are removed\n",
        "print(\"Set:\", my_set)\n",
        "\n",
        "# Dictionary\n",
        "my_dict = {\"name\": \"Alice\", \"age\": 30}\n",
        "print(\"Dictionary:\", my_dict)"
      ],
      "metadata": {
        "id": "ZRrcCmef6k3-",
        "outputId": "2b50bb1c-ff62-43c1-b6f5-c2e0925caf3c",
        "colab": {
          "base_uri": "https://localhost:8080/"
        }
      },
      "id": "ZRrcCmef6k3-",
      "execution_count": 5,
      "outputs": [
        {
          "output_type": "stream",
          "name": "stdout",
          "text": [
            "List: [1, 2, 3, 4, 5]\n",
            "Tuple: (1, 2, 3)\n",
            "Set: {1, 2, 3}\n",
            "Dictionary: {'name': 'Alice', 'age': 30}\n"
          ]
        }
      ]
    },
    {
      "cell_type": "markdown",
      "source": [
        "3. Operators -\n",
        "Arithmetic Operators"
      ],
      "metadata": {
        "id": "F8KNETQq6nvx"
      },
      "id": "F8KNETQq6nvx"
    },
    {
      "cell_type": "code",
      "source": [
        "# Arithmetic Operators\n",
        "a = 10\n",
        "b = 3\n",
        "\n",
        "print(\"Addition:\", a + b)\n",
        "print(\"Subtraction:\", a - b)\n",
        "print(\"Multiplication:\", a * b)\n",
        "print(\"Division:\", a / b)\n",
        "print(\"Modulus:\", a % b)"
      ],
      "metadata": {
        "id": "dtXODNlE6sXV",
        "outputId": "d15344ae-81ed-49db-bcf1-1aa59e5f1e13",
        "colab": {
          "base_uri": "https://localhost:8080/"
        }
      },
      "id": "dtXODNlE6sXV",
      "execution_count": 6,
      "outputs": [
        {
          "output_type": "stream",
          "name": "stdout",
          "text": [
            "Addition: 13\n",
            "Subtraction: 7\n",
            "Multiplication: 30\n",
            "Division: 3.3333333333333335\n",
            "Modulus: 1\n"
          ]
        }
      ]
    },
    {
      "cell_type": "markdown",
      "source": [
        "Comparison Operators"
      ],
      "metadata": {
        "id": "6WyrN1WO6xC0"
      },
      "id": "6WyrN1WO6xC0"
    },
    {
      "cell_type": "code",
      "source": [
        "# Comparison Operators\n",
        "print(\"Is a equal to b?\", a == b)\n",
        "print(\"Is a greater than b?\", a > b)\n",
        "print(\"Is a less than b?\", a < b)"
      ],
      "metadata": {
        "id": "tE8LAYYk65BO",
        "outputId": "284153f5-30d8-4aac-c569-66403fa3ef27",
        "colab": {
          "base_uri": "https://localhost:8080/"
        }
      },
      "id": "tE8LAYYk65BO",
      "execution_count": 8,
      "outputs": [
        {
          "output_type": "stream",
          "name": "stdout",
          "text": [
            "Is a equal to b? False\n",
            "Is a greater than b? True\n",
            "Is a less than b? False\n"
          ]
        }
      ]
    },
    {
      "cell_type": "markdown",
      "source": [
        "Logical Operators"
      ],
      "metadata": {
        "id": "51AGYMOp7Aiy"
      },
      "id": "51AGYMOp7Aiy"
    },
    {
      "cell_type": "code",
      "source": [
        "# Logical Operators\n",
        "x = True\n",
        "y = False\n",
        "\n",
        "print(\"x AND y:\", x and y)\n",
        "print(\"x OR y:\", x or y)\n",
        "print(\"NOT x:\", not x)"
      ],
      "metadata": {
        "id": "GWNvxIbE7BTc",
        "outputId": "d795bb1b-d638-4555-8ffa-9758ba525fc9",
        "colab": {
          "base_uri": "https://localhost:8080/"
        }
      },
      "id": "GWNvxIbE7BTc",
      "execution_count": 9,
      "outputs": [
        {
          "output_type": "stream",
          "name": "stdout",
          "text": [
            "x AND y: False\n",
            "x OR y: True\n",
            "NOT x: False\n"
          ]
        }
      ]
    },
    {
      "cell_type": "markdown",
      "source": [
        "4. Error Handling and Debugging"
      ],
      "metadata": {
        "id": "qTqgltIa7RMI"
      },
      "id": "qTqgltIa7RMI"
    },
    {
      "cell_type": "code",
      "source": [
        "# Error Handling with try-except\n",
        "try:\n",
        "    # Example that may cause an error\n",
        "    num = int(input(\"Enter a number: \"))\n",
        "    print(\"You entered:\", num)\n",
        "except ValueError:\n",
        "    print(\"That's not a valid number!\")"
      ],
      "metadata": {
        "id": "WkLLmt3Q7Wlf",
        "outputId": "7adee38f-7643-4b6e-ae75-351ce0230c49",
        "colab": {
          "base_uri": "https://localhost:8080/"
        }
      },
      "id": "WkLLmt3Q7Wlf",
      "execution_count": 11,
      "outputs": [
        {
          "output_type": "stream",
          "name": "stdout",
          "text": [
            "Enter a number: Sri\n",
            "That's not a valid number!\n"
          ]
        }
      ]
    },
    {
      "cell_type": "markdown",
      "source": [
        "Summary\n",
        "These examples cover defining and using variables, data types, collections, operators, and basic error handling. You can run these codes in a Python environment (like Jupyter Notebook or VS Code) to observe their functionality and encourage students to modify them for a deeper understanding."
      ],
      "metadata": {
        "id": "1lhq-cfL7cSA"
      },
      "id": "1lhq-cfL7cSA"
    }
  ],
  "metadata": {
    "kernelspec": {
      "display_name": "Python 3",
      "name": "python3"
    },
    "language_info": {
      "name": "python"
    },
    "required_libs": [],
    "colab": {
      "provenance": []
    }
  },
  "nbformat": 4,
  "nbformat_minor": 5
}